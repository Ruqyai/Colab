{
  "nbformat": 4,
  "nbformat_minor": 0,
  "metadata": {
    "colab": {
      "name": "Copy of Refresh python.ipynb",
      "version": "0.3.2",
      "provenance": [],
      "include_colab_link": true
    },
    "kernelspec": {
      "display_name": "Python 3",
      "language": "python",
      "name": "python3"
    },
    "language_info": {
      "codemirror_mode": {
        "name": "ipython",
        "version": 3
      },
      "file_extension": ".py",
      "mimetype": "text/x-python",
      "name": "python",
      "nbconvert_exporter": "python",
      "pygments_lexer": "ipython3",
      "version": "3.6.5"
    }
  },
  "cells": [
    {
      "cell_type": "markdown",
      "metadata": {
        "id": "view-in-github",
        "colab_type": "text"
      },
      "source": [
        "<a href=\"https://colab.research.google.com/github/Ruqyai/Colab/blob/master/Copy_of_Refresh_python.ipynb\" target=\"_parent\"><img src=\"https://colab.research.google.com/assets/colab-badge.svg\" alt=\"Open In Colab\"/></a>"
      ]
    },
    {
      "cell_type": "markdown",
      "metadata": {
        "colab_type": "text",
        "id": "DesGhoHlMV2S"
      },
      "source": [
        "# python for Data Sci"
      ]
    },
    {
      "cell_type": "code",
      "metadata": {
        "colab_type": "code",
        "id": "-perWb5cMV2U",
        "outputId": "6d7eab2a-a5f5-48fb-9446-997e690deb86",
        "colab": {}
      },
      "source": [
        "# python and all programming languages can do basic math (add, subtratct , multiply, division)\n",
        "print(5+5)\n",
        "print(5-5)\n",
        "print(5*5)\n",
        "print(5/5)"
      ],
      "execution_count": 0,
      "outputs": [
        {
          "output_type": "stream",
          "text": [
            "10\n",
            "0\n",
            "25\n",
            "1.0\n"
          ],
          "name": "stdout"
        }
      ]
    },
    {
      "cell_type": "markdown",
      "metadata": {
        "colab_type": "text",
        "id": "sFlf2FmVMV2b"
      },
      "source": [
        "in python there are additional operators power`**` and modulo `%`"
      ]
    },
    {
      "cell_type": "code",
      "metadata": {
        "colab_type": "code",
        "id": "w-6xxLOhMV2c",
        "outputId": "6c0bdffa-a79d-4a2b-e148-e5740af068f0",
        "colab": {}
      },
      "source": [
        "print(5**3) # means 5*5*5\n",
        "print(11%2) # means the reminder of the divison"
      ],
      "execution_count": 0,
      "outputs": [
        {
          "output_type": "stream",
          "text": [
            "125\n",
            "1\n"
          ],
          "name": "stdout"
        }
      ]
    },
    {
      "cell_type": "markdown",
      "metadata": {
        "colab_type": "text",
        "id": "Hm7NsF1gMV2h"
      },
      "source": [
        "## Example:\n",
        "Suppose you have $100, which you can invest with a 10%\n",
        "return each year. After one year, it's 100×1.1=110 dollars,\n",
        "and after two years it's 100×1.1×1.1=121."
      ]
    },
    {
      "cell_type": "code",
      "metadata": {
        "colab_type": "code",
        "id": "napb1BVoMV2i",
        "outputId": "64a1e395-d5e9-4213-8b83-93da62c62237",
        "colab": {
          "base_uri": "https://localhost:8080/",
          "height": 52
        }
      },
      "source": [
        "#TODO: Add code to calculate how much money you end up with after 7 years.\n",
        "print(100 * 1.1 ** 7)\n"
      ],
      "execution_count": 0,
      "outputs": [
        {
          "output_type": "stream",
          "text": [
            "194.87171000000012\n",
            "194.87171000000012\n"
          ],
          "name": "stdout"
        }
      ]
    },
    {
      "cell_type": "markdown",
      "metadata": {
        "colab_type": "text",
        "id": "swz1d_-tMV2k"
      },
      "source": [
        "## variables \n",
        "* case sensitive\n",
        "* no start with numbers\n",
        "* no symbols just _  \n",
        "\n",
        "## Types \n",
        "there are commoan types in python (int, float, string, bool ,list, set, dictioninary)\n",
        "to know the type write `type(varible name)` "
      ]
    },
    {
      "cell_type": "code",
      "metadata": {
        "colab_type": "code",
        "id": "u9tgiJt1MV2l",
        "colab": {}
      },
      "source": [
        "# Create a variable savings with the value 100.\n",
        "# Check out this variable by typing print(savings) in the script.\n",
        "# Check out this variable type by typing print(type(savings)) in the script."
      ],
      "execution_count": 0,
      "outputs": []
    },
    {
      "cell_type": "code",
      "metadata": {
        "colab_type": "code",
        "id": "CBToLHArMV2q",
        "outputId": "8b3e20ad-d04b-4629-f10f-e7581811cd79",
        "colab": {
          "base_uri": "https://localhost:8080/",
          "height": 69
        }
      },
      "source": [
        "savings = '100'\n",
        "result =str(100 * 1.10 ** 7)\n",
        "\n",
        "# Fix the printout\n",
        "print(\"I started with $\" + savings + \" and now have $\" + result + \". Awesome!\")\n",
        "print(type(savings))\n",
        "print(type(result))"
      ],
      "execution_count": 0,
      "outputs": [
        {
          "output_type": "stream",
          "text": [
            "I started with $100 and now have $194.87171000000012. Awesome!\n",
            "<class 'str'>\n",
            "<class 'str'>\n"
          ],
          "name": "stdout"
        }
      ]
    },
    {
      "cell_type": "markdown",
      "metadata": {
        "colab_type": "text",
        "id": "rpjS6jOTMV2o"
      },
      "source": [
        "###  we saw int and float values now lets another data types \n",
        "**TODO:** Create a new string, desc, with the value \"pyhton Course\".  \n",
        "\n",
        "**TODO:** Create a new boolean, profitable, with the value True"
      ]
    },
    {
      "cell_type": "code",
      "metadata": {
        "id": "SH4wIMEZHK43",
        "colab_type": "code",
        "colab": {}
      },
      "source": [
        "# Create a variable desc\n",
        "desc = \"pyhton Course\"\n",
        "# Create a variable profitable\n",
        "profitable = True"
      ],
      "execution_count": 0,
      "outputs": []
    },
    {
      "cell_type": "markdown",
      "metadata": {
        "colab_type": "text",
        "id": "G9fpbVtkMV2p"
      },
      "source": [
        "String vlaues must be between tow double or single quotes Ex: \"Hello\" or 'Hi'. You can merge between strings with + operator.\n",
        "\n",
        "boolean values can be `True` or `False` first capital letter is important also can be 0 or 1"
      ]
    },
    {
      "cell_type": "markdown",
      "metadata": {
        "colab_type": "text",
        "id": "NnI0yf7yMV2u"
      },
      "source": [
        "## we can convert between some python types\n",
        "we can convert string value contains numbers to int or float but we can't convert letters to float or int\n",
        "we can convert between int and float but in convert int to float the numbers after the fraction point removed"
      ]
    },
    {
      "cell_type": "code",
      "metadata": {
        "colab_type": "code",
        "id": "K7DJZc3wMV2v",
        "colab": {}
      },
      "source": [
        "# Definition of pi_string\n",
        "pi_string = \"3.1415926\"\n",
        "\n",
        "# TODO: Convert pi_string into float: pi_float and then print the type of it\n",
        "pi_float =float(pi_string)"
      ],
      "execution_count": 0,
      "outputs": []
    },
    {
      "cell_type": "markdown",
      "metadata": {
        "colab_type": "text",
        "id": "fQepKzEqMV2y"
      },
      "source": [
        "## all these types store single values and our probelm in data scinece have many datapoint and it's hard to store each value in variable so we're using list to hold many values in one variable\n",
        "\n",
        "**List features**\n",
        "* name a collection of values \n",
        "* contain any type\n",
        "* Contain different type"
      ]
    },
    {
      "cell_type": "code",
      "metadata": {
        "colab_type": "code",
        "id": "pD0FuGlSMV2z",
        "outputId": "0eb51116-72bb-40cd-d853-e65d6d2fdb6e",
        "colab": {
          "base_uri": "https://localhost:8080/",
          "height": 35
        }
      },
      "source": [
        "fam = [\"lyla\",1.65,\"Naser\",1.70,\"mom\",1.67,\"dad\",1.89]\n",
        "fam"
      ],
      "execution_count": 0,
      "outputs": [
        {
          "output_type": "execute_result",
          "data": {
            "text/plain": [
              "['lyla', 1.65, 'Naser', 1.7, 'mom', 1.67, 'dad', 1.89]"
            ]
          },
          "metadata": {
            "tags": []
          },
          "execution_count": 12
        }
      ]
    },
    {
      "cell_type": "code",
      "metadata": {
        "id": "EJR2xk-7EuzB",
        "colab_type": "code",
        "outputId": "7d0103ef-721a-4476-b3dc-9fb04df177b4",
        "colab": {
          "base_uri": "https://localhost:8080/",
          "height": 69
        }
      },
      "source": [
        "# You can access the list by its index the index start from 0 to (length of list-1)\n",
        "# so fam[0] will print \"lyla\" and fam[7] will print 1.89\n",
        "print(fam[0])\n",
        "print(fam[7])\n",
        "#TODO: print the second element from the fam list\n",
        "print(fam[1])"
      ],
      "execution_count": 0,
      "outputs": [
        {
          "output_type": "stream",
          "text": [
            "lyla\n",
            "1.89\n",
            "1.65\n"
          ],
          "name": "stdout"
        }
      ]
    },
    {
      "cell_type": "code",
      "metadata": {
        "id": "8ykJGh7uEuzD",
        "colab_type": "code",
        "outputId": "6df30f66-97a2-4b29-9781-0e0f985692b6",
        "colab": {
          "base_uri": "https://localhost:8080/",
          "height": 35
        }
      },
      "source": [
        "# also you can go backword by using minus sign for eaxmple fam[-1] will print the last element\n",
        "\n",
        "#TODO: print \"mom\" from the list using backward index\n",
        "print(fam[-4])"
      ],
      "execution_count": 0,
      "outputs": [
        {
          "output_type": "stream",
          "text": [
            "mom\n"
          ],
          "name": "stdout"
        }
      ]
    },
    {
      "cell_type": "markdown",
      "metadata": {
        "id": "-KyVWxdVEuzE",
        "colab_type": "text"
      },
      "source": [
        "### list slicing :  list[ start : end ]\n",
        "\n",
        "**Start inclusive ---------     end exclusive**\n",
        "\n",
        "for example if we want to get the name \"Naser\" and his tall from our `fam` varibale we will insert the index of \"Naser\" which is 2 and the index of his tall+1 which is 4 so it will be `fam[2:4]`  "
      ]
    },
    {
      "cell_type": "code",
      "metadata": {
        "id": "zjFK3qPYEuzF",
        "colab_type": "code",
        "outputId": "237b6ff3-618c-43b5-b714-f7bd7d8fd840",
        "colab": {
          "base_uri": "https://localhost:8080/",
          "height": 35
        }
      },
      "source": [
        "#TODO: print \"dad\" and his tall from fam list using list slicing\n",
        "fam[6:8]"
      ],
      "execution_count": 0,
      "outputs": [
        {
          "output_type": "execute_result",
          "data": {
            "text/plain": [
              "['dad', 1.89]"
            ]
          },
          "metadata": {
            "tags": []
          },
          "execution_count": 23
        }
      ]
    },
    {
      "cell_type": "code",
      "metadata": {
        "id": "MjyceimxEuzG",
        "colab_type": "code",
        "outputId": "b2d9e17c-fb0c-42f4-8ee9-e2510ae86cf7",
        "colab": {
          "base_uri": "https://localhost:8080/",
          "height": 52
        }
      },
      "source": [
        "areas = [\"hallway\", 11.25, \"kitchen\", 18.0, \"living room\", 20.0, \"bedroom\", 10.75, \"bathroom\", 9.50]\n",
        "\n",
        "#TODO: Use slicing to create a list, downstairs, that contains the first 6 elements of areas.\n",
        " #Use slicing to create downstairs\n",
        "downstairs = areas[0:6]\n",
        "\n",
        "\n",
        "# TODO: Do a similar thing to create a new variable, upstairs, that contains the last 4 elements of areas.\n",
        "# Use slicing to create upstairs\n",
        "upstairs = areas[6:11]\n",
        "\n",
        "\n",
        "# TODO: Print both downstairs and upstairs using print().\n",
        "\n",
        "# Print out downstairs and upstairs\n",
        "#print (downstairs,upstairs)\n",
        "print(downstairs)\n",
        "print(upstairs)"
      ],
      "execution_count": 0,
      "outputs": [
        {
          "output_type": "stream",
          "text": [
            "['hallway', 11.25, 'kitchen', 18.0, 'living room', 20.0]\n",
            "['bedroom', 10.75, 'bathroom', 9.5]\n"
          ],
          "name": "stdout"
        }
      ]
    },
    {
      "cell_type": "markdown",
      "metadata": {
        "id": "NIN_vjPLEuzI",
        "colab_type": "text"
      },
      "source": [
        "If you don't specify the `start` index, Python figures out that you want to start your slice at the beginning of your list. If you don't specify the `end` index, the slice will go all the way to the last element of your list\n",
        "\n",
        "**Try this in the cell below**\n",
        "\n",
        "x = [\"a\", \"b\", \"c\", \"d\"]\n",
        "\n",
        "x[:2]\n",
        "\n",
        "x[2:]\n",
        "\n",
        "x[:]"
      ]
    },
    {
      "cell_type": "code",
      "metadata": {
        "id": "wqgs-_IvEuzI",
        "colab_type": "code",
        "outputId": "9c8c5540-cf6e-4648-cf93-589d60307793",
        "colab": {
          "base_uri": "https://localhost:8080/",
          "height": 69
        }
      },
      "source": [
        "x = [\"a\", \"b\", \"c\", \"d\"]\n",
        "\n",
        "print(x[:2])\n",
        "\n",
        "print(x[2:])\n",
        "\n",
        "print(x[:])"
      ],
      "execution_count": 0,
      "outputs": [
        {
          "output_type": "stream",
          "text": [
            "['a', 'b']\n",
            "['c', 'd']\n",
            "['a', 'b', 'c', 'd']\n"
          ],
          "name": "stdout"
        }
      ]
    },
    {
      "cell_type": "code",
      "metadata": {
        "id": "2uTDNa5EEuzK",
        "colab_type": "code",
        "colab": {}
      },
      "source": [
        ""
      ],
      "execution_count": 0,
      "outputs": []
    },
    {
      "cell_type": "markdown",
      "metadata": {
        "id": "TJN7EmBmEuzL",
        "colab_type": "text"
      },
      "source": [
        "# Import packges\n",
        "In python we can import packges that profiessinal developers made them and make our code life easier in data sci there are many comman packages we use such as `numpy`, `pandas`, `matplotlib`, `scikit learn` and there are more packages"
      ]
    },
    {
      "cell_type": "markdown",
      "metadata": {
        "id": "rGejDCYUEuzM",
        "colab_type": "text"
      },
      "source": [
        "## import numpy and using it \n",
        "to import package we to type import then packcage name and we can give it local name for shortcut and the comman local name for numpy is np"
      ]
    },
    {
      "cell_type": "code",
      "metadata": {
        "id": "qgILJ55HEuzM",
        "colab_type": "code",
        "colab": {}
      },
      "source": [
        "# TODO: import numpy package as np\n",
        "import numpy as np"
      ],
      "execution_count": 0,
      "outputs": []
    },
    {
      "cell_type": "markdown",
      "metadata": {
        "id": "5XvworvkEuzO",
        "colab_type": "text"
      },
      "source": [
        "You can convert normal list to array using `np.array()`"
      ]
    },
    {
      "cell_type": "code",
      "metadata": {
        "id": "0FQQ0nBKEuzP",
        "colab_type": "code",
        "outputId": "a68d38d5-d6c5-4af0-b9de-e3192610a7b3",
        "colab": {
          "base_uri": "https://localhost:8080/",
          "height": 52
        }
      },
      "source": [
        "scores = [20,40,60,70,30,50]\n",
        "# TODO: convert scores list to array and assign the value to np_scores\n",
        "np_scores= np.array(scores)\n",
        "print (scores, type(scores))\n",
        "print (np_scores, type(np_scores))\n"
      ],
      "execution_count": 0,
      "outputs": [
        {
          "output_type": "stream",
          "text": [
            "[20, 40, 60, 70, 30, 50] <class 'list'>\n",
            "[20 40 60 70 30 50] <class 'numpy.ndarray'>\n"
          ],
          "name": "stdout"
        }
      ]
    },
    {
      "cell_type": "markdown",
      "metadata": {
        "id": "0omCeGhAEuzR",
        "colab_type": "text"
      },
      "source": [
        "### Array vs List\n",
        "the main diffrence between them \n",
        "\n",
        "**Array**: can apply math opreations on it like +,*,/,-\n",
        "\n",
        "**List** if you used + operator it means merage the values not add them\n"
      ]
    },
    {
      "cell_type": "code",
      "metadata": {
        "id": "uLRdXRcrEuzU",
        "colab_type": "code",
        "outputId": "9bc12e4d-71fd-4e3f-8646-82eea6fb2e8d",
        "colab": {
          "base_uri": "https://localhost:8080/",
          "height": 52
        }
      },
      "source": [
        "scores_1 = [20,40]\n",
        "score_2 = [60,80]\n",
        "#TODO: add scores_1 with scores_2 and print the output\n",
        "add_scores =scores_1 + score_2\n",
        "print('list', add_scores)\n",
        "\n",
        "# TODO: convert scores_1 and scores_2 to array and add them then print the output\n",
        "arr_score_1=np.array(scores_1)\n",
        "arr_score_2=np.array(score_2)\n",
        "arr_add_scores=arr_score_1+arr_score_2\n",
        "print('array',arr_add_scores)\n",
        "\n"
      ],
      "execution_count": 0,
      "outputs": [
        {
          "output_type": "stream",
          "text": [
            "list [20, 40, 60, 80]\n",
            "array [ 80 120]\n"
          ],
          "name": "stdout"
        }
      ]
    },
    {
      "cell_type": "markdown",
      "metadata": {
        "id": "gHT1n2uUEuzX",
        "colab_type": "text"
      },
      "source": [
        "### there are similar features between the array and list like indexing and slicing"
      ]
    },
    {
      "cell_type": "code",
      "metadata": {
        "id": "bX0j43S3EuzY",
        "colab_type": "code",
        "outputId": "0465434b-d190-4aac-d188-6c5ee682ce6d",
        "colab": {
          "base_uri": "https://localhost:8080/",
          "height": 69
        }
      },
      "source": [
        "players = np.array([\"ahmed\",\"Yasser\",\"Naser\",\"Fahad\",\"Ali\",\"Youssef\",\"Anas\",\"Jameel\"])\n",
        "#TODO: print Ali from the players array\n",
        "print(players[4])\n",
        "#TODO: assign the first 4 players to red_team and the last 4 players to blue_team\n",
        "red_team=players[:4]\n",
        "blue_team=players[4:]\n",
        "print(red_team)\n",
        "print(blue_team)"
      ],
      "execution_count": 0,
      "outputs": [
        {
          "output_type": "stream",
          "text": [
            "Ali\n",
            "['ahmed' 'Yasser' 'Naser' 'Fahad']\n",
            "['Ali' 'Youssef' 'Anas' 'Jameel']\n"
          ],
          "name": "stdout"
        }
      ]
    },
    {
      "cell_type": "code",
      "metadata": {
        "id": "Ar0657XdEuza",
        "colab_type": "code",
        "outputId": "86c06598-9f46-4a29-c254-37568377a9e1",
        "colab": {
          "base_uri": "https://localhost:8080/",
          "height": 35
        }
      },
      "source": [
        "# TODO: Create a 1D array of numbers from 0 to 9 with arange() function\n",
        "ID =np.arange(10)\n",
        "print(ID)"
      ],
      "execution_count": 0,
      "outputs": [
        {
          "output_type": "stream",
          "text": [
            "[0 1 2 3 4 5 6 7 8 9]\n"
          ],
          "name": "stdout"
        }
      ]
    },
    {
      "cell_type": "code",
      "metadata": {
        "id": "zaxVSniPEuzd",
        "colab_type": "code",
        "outputId": "8a29986d-58de-4488-9c67-5b64a39ec818",
        "colab": {
          "base_uri": "https://localhost:8080/",
          "height": 69
        }
      },
      "source": [
        "#TODO: Create a 3×3 numpy array of all True’s with boolean type using full function\n",
        "np.full((3, 3), True, dtype=bool)"
      ],
      "execution_count": 0,
      "outputs": [
        {
          "output_type": "execute_result",
          "data": {
            "text/plain": [
              "array([[ True,  True,  True],\n",
              "       [ True,  True,  True],\n",
              "       [ True,  True,  True]])"
            ]
          },
          "metadata": {
            "tags": []
          },
          "execution_count": 48
        }
      ]
    },
    {
      "cell_type": "code",
      "metadata": {
        "id": "ne5xrCzatJIC",
        "colab_type": "code",
        "outputId": "25d0e7f2-9f28-4dde-a670-16d1ab87b5cb",
        "colab": {
          "base_uri": "https://localhost:8080/",
          "height": 69
        }
      },
      "source": [
        "np.ones((3,3), dtype=bool)"
      ],
      "execution_count": 0,
      "outputs": [
        {
          "output_type": "execute_result",
          "data": {
            "text/plain": [
              "array([[ True,  True,  True],\n",
              "       [ True,  True,  True],\n",
              "       [ True,  True,  True]])"
            ]
          },
          "metadata": {
            "tags": []
          },
          "execution_count": 47
        }
      ]
    },
    {
      "cell_type": "code",
      "metadata": {
        "id": "6XutRfO5Euzf",
        "colab_type": "code",
        "outputId": "5690073f-0f76-42e0-ab05-8517e792dbca",
        "colab": {
          "base_uri": "https://localhost:8080/",
          "height": 35
        }
      },
      "source": [
        "# you can but condition inside the index brackets to print all values that condation is true\n",
        "#TODO:  extract items that satisfy a given condition from 1D array element is even\n",
        "#arr = np.array([0, 1, 2, 3, 4, 5, 6, 7, 8, 9])\n",
        "\n",
        "# Input\n",
        "arr = np.array([0, 1, 2, 3, 4, 5, 6, 7, 8, 9])\n",
        "\n",
        "# Solution\n",
        "arr[arr % 2 == 1]\n",
        "#> array([1, 3, 5, 7, 9])"
      ],
      "execution_count": 0,
      "outputs": [
        {
          "output_type": "execute_result",
          "data": {
            "text/plain": [
              "array([1, 3, 5, 7, 9])"
            ]
          },
          "metadata": {
            "tags": []
          },
          "execution_count": 50
        }
      ]
    },
    {
      "cell_type": "code",
      "metadata": {
        "id": "_Jv50OQhEuzh",
        "colab_type": "code",
        "outputId": "acac5642-b150-4cb4-fa2d-fbddb2b0003a",
        "colab": {
          "base_uri": "https://localhost:8080/",
          "height": 52
        }
      },
      "source": [
        "# TODO: Convert a 1D array to a 2D array with 2 rows using reshape function\n",
        "#arr = np.arange(10)\n",
        "#hint: Setting cols to -1 automatically decides the number of cols\n",
        "\n",
        "arr = np.arange(10)\n",
        "arr.reshape(2, -1)  # Setting to -1 automatically decides the number of cols"
      ],
      "execution_count": 0,
      "outputs": [
        {
          "output_type": "execute_result",
          "data": {
            "text/plain": [
              "array([[0, 1, 2, 3, 4],\n",
              "       [5, 6, 7, 8, 9]])"
            ]
          },
          "metadata": {
            "tags": []
          },
          "execution_count": 56
        }
      ]
    },
    {
      "cell_type": "markdown",
      "metadata": {
        "id": "WKIzkOznEuzj",
        "colab_type": "text"
      },
      "source": [
        "## for more numpy exercises visit the [website](https://www.machinelearningplus.com/python/101-numpy-exercises-python/)"
      ]
    },
    {
      "cell_type": "markdown",
      "metadata": {
        "id": "mOxbtBNBEuzj",
        "colab_type": "text"
      },
      "source": [
        "### Now it's the time of condition \n",
        "In python you can logic operators like bigger than `>`, less than`<`, equal`==` and not equal `!=`\n",
        "these operators returns boolean value `True` or `False` it basiclly if the condition is True do something if something else to another things"
      ]
    },
    {
      "cell_type": "code",
      "metadata": {
        "id": "Ndq0jsKDEuzk",
        "colab_type": "code",
        "outputId": "3f0c8832-77e4-4942-a196-79345872addd",
        "colab": {}
      },
      "source": [
        "# Examples \n",
        "v1 = 5\n",
        "v2 = 10\n",
        "if v1>v2:\n",
        "    print(\"Correct Answer\")\n",
        "    print(v1>v2)\n",
        "else:\n",
        "    print(\"Wrong answer\")\n",
        "    print(v1>v2)"
      ],
      "execution_count": 0,
      "outputs": [
        {
          "output_type": "stream",
          "text": [
            "Wrong answer\n",
            "False\n"
          ],
          "name": "stdout"
        }
      ]
    },
    {
      "cell_type": "markdown",
      "metadata": {
        "id": "tTBJWXqhEuzm",
        "colab_type": "text"
      },
      "source": [
        "It can be more than one if statments and it can be nested"
      ]
    },
    {
      "cell_type": "code",
      "metadata": {
        "id": "YIqaWwlkEuzm",
        "colab_type": "code",
        "outputId": "9572faaf-c875-487b-cbbb-aa2eb9de67a9",
        "colab": {}
      },
      "source": [
        "a = 2\n",
        "b = 4\n",
        "c = 6\n",
        "\n",
        "if a > b:\n",
        "    if a> c: # if statment inside if statment\n",
        "        print(str(a)+\" is the largest number\")\n",
        "elif b > c: # elif used when you create multiple if statments \n",
        "    print(str(b)+\" is the largest number\")\n",
        "else:\n",
        "    print(str(c)+\" is the largest number\")"
      ],
      "execution_count": 0,
      "outputs": [
        {
          "output_type": "stream",
          "text": [
            "6 is the largest number\n"
          ],
          "name": "stdout"
        }
      ]
    },
    {
      "cell_type": "markdown",
      "metadata": {
        "id": "WXcqIS4JEuzo",
        "colab_type": "text"
      },
      "source": [
        "It was a quick intro to the if statments and now what if you want to repeat an instruction few times should you write down the instruction five times or 1000 times it's very hard so we can use **for loop** to repeat the instructions and to read data from continers like lists or arrays "
      ]
    },
    {
      "cell_type": "code",
      "metadata": {
        "id": "7vfSQj0FEuzp",
        "colab_type": "code",
        "outputId": "e19a7249-703f-42ad-d3a8-4ed5b73418b3",
        "colab": {}
      },
      "source": [
        "#Example of foor loop\n",
        "for i in range(5): # it means give the variable i value in range 5 * range(5) means 0,1,2,3,4 = repeat 5 times\n",
        "    print(\"Hola\")"
      ],
      "execution_count": 0,
      "outputs": [
        {
          "output_type": "stream",
          "text": [
            "Hola\n",
            "Hola\n",
            "Hola\n",
            "Hola\n",
            "Hola\n"
          ],
          "name": "stdout"
        }
      ]
    },
    {
      "cell_type": "code",
      "metadata": {
        "id": "Mtupb_68Euzr",
        "colab_type": "code",
        "outputId": "a407c47c-2c75-4010-f207-734928d99822",
        "colab": {}
      },
      "source": [
        "# you can read elements from list also\n",
        "friends = [\"Ahmed\", \"Mohamed\",\"Omar\",\"Waleed\"]\n",
        "for i in friends: # means for variable i in the list friends \n",
        "    print(i) \n",
        "# you can also add iterate by range\n",
        "for i in range(len(friends)): # len to get the length of the list (how many times you want to iterate)\n",
        "    print(i)\n",
        "# It's same in some points and not same in some else"
      ],
      "execution_count": 0,
      "outputs": [
        {
          "output_type": "stream",
          "text": [
            "Ahmed\n",
            "Mohamed\n",
            "Omar\n",
            "Waleed\n",
            "0\n",
            "1\n",
            "2\n",
            "3\n"
          ],
          "name": "stdout"
        }
      ]
    },
    {
      "cell_type": "markdown",
      "metadata": {
        "id": "CofC66QmEuzu",
        "colab_type": "text"
      },
      "source": [
        "We write code to make functions and write functions to make classes\n",
        "\n",
        "The function is like a continaer to your code have specific name and do specific task let us see some example"
      ]
    },
    {
      "cell_type": "code",
      "metadata": {
        "id": "qxId0sWlEuzu",
        "colab_type": "code",
        "outputId": "a5f535f1-f17b-4bb9-ae2f-1c80e43e354d",
        "colab": {}
      },
      "source": [
        "def add(a,b): # def here means define function with name (add) takes tow values\n",
        "    print(a+b) #here print the value of a+b\n",
        "# see the function weill not print and value and wont work if we don't called it now let's called the function\n",
        "add(6,6)\n",
        "#TODO: add sub, multiple, divide functions and print them out"
      ],
      "execution_count": 0,
      "outputs": [
        {
          "output_type": "stream",
          "text": [
            "12\n"
          ],
          "name": "stdout"
        }
      ]
    },
    {
      "cell_type": "code",
      "metadata": {
        "id": "G8ur39f9Euzw",
        "colab_type": "code",
        "outputId": "48928f44-f1c5-4c12-9ea0-806a16209fa4",
        "colab": {}
      },
      "source": [
        "fName = \"Ahmed\"\n",
        "def print_value(x):\n",
        "    print(x)\n",
        "    \n",
        "# we can pass variable with not same name of the argument value\n",
        "print_value(fName)\n",
        "# argument variable effects only inside the function"
      ],
      "execution_count": 0,
      "outputs": [
        {
          "output_type": "stream",
          "text": [
            "Ahmed\n"
          ],
          "name": "stdout"
        }
      ]
    },
    {
      "cell_type": "code",
      "metadata": {
        "id": "56AUR1PxEuzy",
        "colab_type": "code",
        "colab": {}
      },
      "source": [
        ""
      ],
      "execution_count": 0,
      "outputs": []
    },
    {
      "cell_type": "code",
      "metadata": {
        "id": "3psaIItiEuz0",
        "colab_type": "code",
        "colab": {}
      },
      "source": [
        ""
      ],
      "execution_count": 0,
      "outputs": []
    },
    {
      "cell_type": "code",
      "metadata": {
        "id": "jNbu7vhgEuz2",
        "colab_type": "code",
        "colab": {}
      },
      "source": [
        ""
      ],
      "execution_count": 0,
      "outputs": []
    }
  ]
}