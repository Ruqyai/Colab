{
  "nbformat": 4,
  "nbformat_minor": 0,
  "metadata": {
    "colab": {
      "name": "Intro.ipynb",
      "version": "0.3.2",
      "provenance": [],
      "include_colab_link": true
    },
    "kernelspec": {
      "name": "python3",
      "display_name": "Python 3"
    }
  },
  "cells": [
    {
      "cell_type": "markdown",
      "metadata": {
        "id": "view-in-github",
        "colab_type": "text"
      },
      "source": [
        "<a href=\"https://colab.research.google.com/github/Ruqyai/Colab/blob/master/Intro.ipynb\" target=\"_parent\"><img src=\"https://colab.research.google.com/assets/colab-badge.svg\" alt=\"Open In Colab\"/></a>"
      ]
    },
    {
      "cell_type": "markdown",
      "metadata": {
        "id": "pHsRDtZTohJk",
        "colab_type": "text"
      },
      "source": [
        "## Why TensorFlow\n",
        "\n",
        "TensorFlow makes it easy for beginners and experts to create machine learning models for desktop, mobile, web, and cloud. See the sections below to get started.\n",
        "\n",
        "\n",
        "TensorFlow is an end-to-end open source platform for machine learning. It has a comprehensive, flexible ecosystem of tools, libraries and community resources that lets researchers push the state-of-the-art in ML and developers easily build and deploy ML powered applications.\n",
        "1. Easy model building \n",
        "2. Robust ML production anywhere \n",
        "3. Powerful experimentation for research\n",
        "\n",
        "[source](https://www.tensorflow.org/)"
      ]
    },
    {
      "cell_type": "markdown",
      "metadata": {
        "id": "WbIbDtAxXHaj",
        "colab_type": "text"
      },
      "source": [
        "###TensorFlow API hierarchy\n",
        "\n",
        "![TensorFlow API hierarchy](https://ekababisong.org/assets/seminar_IEEE/tensorflow_api.png )\n",
        "\n",
        "[source](https://ekababisong.org/gcp-ml-seminar/tensorflow/)"
      ]
    },
    {
      "cell_type": "markdown",
      "metadata": {
        "id": "AV7Rh5d9SpB3",
        "colab_type": "text"
      },
      "source": [
        "TensorFlow provides a collection of workflows to develop and train models using Python, JavaScript, or Swift, and to easily deploy in the cloud, on-prem, in the browser, or on-device no matter what language you use.\n",
        "\n",
        "![alt text](https://i.ibb.co/tqkLH5z/tensor.jpg)\n",
        "\n",
        "[source](https://www.tensorflow.org/)"
      ]
    },
    {
      "cell_type": "markdown",
      "metadata": {
        "id": "S_uwufhTslj6",
        "colab_type": "text"
      },
      "source": [
        "## What’s coming in TensorFlow 2.0\n",
        "\n",
        "### Here are some of the larger changes coming:\n",
        "\n",
        "    1. Eager execution as a central feature of 2.0. \n",
        "    2. Keras tightly integrated with the TensorFlow ecosystem.\n",
        "\n",
        "    \n",
        ">[read more](https://www.tensorflow.org/community/roadmap)"
      ]
    },
    {
      "cell_type": "markdown",
      "metadata": {
        "id": "poqOcoxwrxer",
        "colab_type": "text"
      },
      "source": [
        "### The general steps for machine learning\n",
        "\n",
        "![alt text](https://developers.google.com/machine-learning/guides/text-classification/images/Workflow.png)"
      ]
    }
  ]
}