{
  "nbformat": 4,
  "nbformat_minor": 0,
  "metadata": {
    "colab": {
      "name": "Intro.ipynb",
      "version": "0.3.2",
      "provenance": [],
      "include_colab_link": true
    },
    "kernelspec": {
      "name": "python3",
      "display_name": "Python 3"
    }
  },
  "cells": [
    {
      "cell_type": "markdown",
      "metadata": {
        "id": "view-in-github",
        "colab_type": "text"
      },
      "source": [
        "<a href=\"https://colab.research.google.com/github/Ruqyai/Colab/blob/master/Intro.ipynb\" target=\"_parent\"><img src=\"https://colab.research.google.com/assets/colab-badge.svg\" alt=\"Open In Colab\"/></a>"
      ]
    },
    {
      "cell_type": "markdown",
      "metadata": {
        "id": "WVF8z9A1S7W1",
        "colab_type": "text"
      },
      "source": [
        "![alt text](https://developers.google.com/machine-learning/guides/text-classification/images/Workflow.png)"
      ]
    },
    {
      "cell_type": "markdown",
      "metadata": {
        "id": "TaU533fDYLQf",
        "colab_type": "text"
      },
      "source": [
        "TensorFlow provides a collection of workflows to develop and train models using Python, JavaScript, or Swift, and to easily deploy in the cloud, on-prem, in the browser, or on-device no matter what language you use.\n",
        "\n",
        "يوفر تنسرفلو مجموعة من مهام سير العمل لتطوير النماذج وتدريبها باستخدام بايثون أو جافاسكريبت أو سويفت ، وللنشر بسهولة في الشبكة السحابية أو الداخلية أو في المستعرض أو على الجهاز بغض النظر عن اللغة التي تستخدمها.\n",
        "![alt text](https://www.tensorflow.org/site-assets/images/marketing/learn/ecosystem_diagram_python.png) ![alt text](https://www.tensorflow.org/site-assets/images/marketing/learn/ecosystem_diagram_javascript.png)![alt text](https://www.tensorflow.org/site-assets/images/marketing/learn/ecosystem_diagram_swift.png)![alt text](https://www.tensorflow.org/site-assets/images/marketing/learn/ecosystem_diagram_edge_devices.png) ![alt text](https://www.tensorflow.org/site-assets/images/marketing/learn/ecosystem_diagram_end_to_end.png)\n"
      ]
    },
    {
      "cell_type": "markdown",
      "metadata": {
        "id": "AV7Rh5d9SpB3",
        "colab_type": "text"
      },
      "source": [
        "![alt text](https://www.tensorflow.org/site-assets/images/marketing/learn/ecosystem_diagram_body.png)"
      ]
    }
  ]
}