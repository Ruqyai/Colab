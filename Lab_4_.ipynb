{
  "nbformat": 4,
  "nbformat_minor": 0,
  "metadata": {
    "colab": {
      "name": "Lab  4 .ipynb",
      "version": "0.3.2",
      "provenance": [],
      "collapsed_sections": [],
      "toc_visible": true,
      "include_colab_link": true
    },
    "kernelspec": {
      "name": "python3",
      "display_name": "Python 3"
    }
  },
  "cells": [
    {
      "cell_type": "markdown",
      "metadata": {
        "id": "view-in-github",
        "colab_type": "text"
      },
      "source": [
        "<a href=\"https://colab.research.google.com/github/Ruqyai/Colab/blob/master/Lab_4_.ipynb\" target=\"_parent\"><img src=\"https://colab.research.google.com/assets/colab-badge.svg\" alt=\"Open In Colab\"/></a>"
      ]
    },
    {
      "cell_type": "markdown",
      "metadata": {
        "id": "Pw_UeK9vflyR",
        "colab_type": "text"
      },
      "source": [
        "# Reading from csv file"
      ]
    },
    {
      "cell_type": "markdown",
      "metadata": {
        "id": "G1bxIJRbqcIt",
        "colab_type": "text"
      },
      "source": [
        "# Getting Started\n",
        "\n",
        "Please download the dataset  from [Dataset download link](https://www.kaggle.com/shivachandel/kc-house-data)\n"
      ]
    },
    {
      "cell_type": "markdown",
      "metadata": {
        "id": "ytcjztxnjS1b",
        "colab_type": "text"
      },
      "source": [
        "\n",
        "\n",
        "###Import libraries\n",
        "\n",
        "\n"
      ]
    },
    {
      "cell_type": "code",
      "metadata": {
        "id": "M2d6rYP_i_hx",
        "colab_type": "code",
        "colab": {}
      },
      "source": [
        "import tensorflow as tf\n",
        "import numpy as np\n",
        "import pandas as pd\n",
        "import seaborn as sb\n",
        "import matplotlib.pyplot as plt\n",
        "from sklearn.model_selection import train_test_split\n",
        "import io"
      ],
      "execution_count": 0,
      "outputs": []
    },
    {
      "cell_type": "markdown",
      "metadata": {
        "id": "EexajtmcrZ0t",
        "colab_type": "text"
      },
      "source": [
        "### Upload the dataset"
      ]
    },
    {
      "cell_type": "code",
      "metadata": {
        "id": "Is0EQ1WK9m4k",
        "colab_type": "code",
        "colab": {}
      },
      "source": [
        "from google.colab import files\n",
        "uploaded = files.upload()"
      ],
      "execution_count": 0,
      "outputs": []
    },
    {
      "cell_type": "markdown",
      "metadata": {
        "id": "eVdWi-vQsN-o",
        "colab_type": "text"
      },
      "source": [
        "###Load the dataset"
      ]
    },
    {
      "cell_type": "code",
      "metadata": {
        "id": "ytaabSN1kEjY",
        "colab_type": "code",
        "colab": {}
      },
      "source": [
        "df = pd.read_csv(io.StringIO(uploaded['kc_house_data.csv'].decode('utf-8')))"
      ],
      "execution_count": 0,
      "outputs": []
    },
    {
      "cell_type": "markdown",
      "metadata": {
        "id": "9BLux0Gdr6tf",
        "colab_type": "text"
      },
      "source": [
        "##Data Exploration"
      ]
    },
    {
      "cell_type": "code",
      "metadata": {
        "id": "quLmOu3AsAXr",
        "colab_type": "code",
        "colab": {}
      },
      "source": [
        "df.head(5)"
      ],
      "execution_count": 0,
      "outputs": []
    },
    {
      "cell_type": "code",
      "metadata": {
        "id": "eDKr62sc0EJ_",
        "colab_type": "code",
        "colab": {}
      },
      "source": [
        "df.info()"
      ],
      "execution_count": 0,
      "outputs": []
    },
    {
      "cell_type": "code",
      "metadata": {
        "id": "krSPjYCm0H_T",
        "colab_type": "code",
        "colab": {}
      },
      "source": [
        "df.isnull().sum()"
      ],
      "execution_count": 0,
      "outputs": []
    },
    {
      "cell_type": "code",
      "metadata": {
        "id": "5owZmejV0Tu4",
        "colab_type": "code",
        "colab": {}
      },
      "source": [
        "\n",
        "plt.figure(figsize=(10, 4))\n",
        "sb.stripplot(x=\"bedrooms\", y=\"price\", data=df);"
      ],
      "execution_count": 0,
      "outputs": []
    },
    {
      "cell_type": "code",
      "metadata": {
        "id": "YqYW894ENQaP",
        "colab_type": "code",
        "colab": {}
      },
      "source": [
        "sb.countplot(x='bedrooms',data=df, palette='hls')"
      ],
      "execution_count": 0,
      "outputs": []
    },
    {
      "cell_type": "markdown",
      "metadata": {
        "id": "cQc3LhulsiQp",
        "colab_type": "text"
      },
      "source": [
        "##Select features"
      ]
    },
    {
      "cell_type": "code",
      "metadata": {
        "id": "maJsaXWT0N0r",
        "colab_type": "code",
        "colab": {}
      },
      "source": [
        "df = df.drop(['id','date', 'lat', 'long','zipcode'], axis =1)\n",
        "df.head()"
      ],
      "execution_count": 0,
      "outputs": []
    },
    {
      "cell_type": "markdown",
      "metadata": {
        "id": "KIU6C8xlj2yA",
        "colab_type": "text"
      },
      "source": [
        "\n",
        "\n",
        "##Choose the algorithm that you think it is the right\n",
        "\n"
      ]
    },
    {
      "cell_type": "markdown",
      "metadata": {
        "id": "L5kT6iAD1N6L",
        "colab_type": "text"
      },
      "source": [
        "1. **Input data**"
      ]
    },
    {
      "cell_type": "code",
      "metadata": {
        "id": "qI9vPgwM07Be",
        "colab_type": "code",
        "colab": {}
      },
      "source": [
        "columns = ['bedrooms', 'bathrooms', 'sqft_living', 'sqft_lot', 'floors', 'waterfront', 'view', 'condition', 'grade','sqft_above', 'sqft_basement', 'yr_built','yr_renovated', 'sqft_living15', 'sqft_lot15']\n",
        "labels = df['price'].values\n",
        "features = df[list(columns)].values"
      ],
      "execution_count": 0,
      "outputs": []
    },
    {
      "cell_type": "markdown",
      "metadata": {
        "id": "wGY1T5p11Uf3",
        "colab_type": "text"
      },
      "source": [
        "2. **Spilt data**"
      ]
    },
    {
      "cell_type": "code",
      "metadata": {
        "id": "-acBrdWQ1LeN",
        "colab_type": "code",
        "colab": {}
      },
      "source": [
        "X_train, X_test, y_train, y_test = train_test_split(features, labels, test_size=0.30)\n",
        "X_train, X_test = X_train / 15129.0, X_test / 15129.0"
      ],
      "execution_count": 0,
      "outputs": []
    },
    {
      "cell_type": "markdown",
      "metadata": {
        "id": "-LHLQk3g1x_0",
        "colab_type": "text"
      },
      "source": [
        "\n",
        "   3. **Bulid Model**\n"
      ]
    },
    {
      "cell_type": "code",
      "metadata": {
        "id": "ztvNxBeo10T2",
        "colab_type": "code",
        "colab": {}
      },
      "source": [
        "model = tf.keras.Sequential([tf.keras.layers.Dense(units=1, input_shape=[15]),\n",
        "                            tf.keras.layers.Dense(1, activation=\"linear\")])\n",
        "                            "
      ],
      "execution_count": 0,
      "outputs": []
    },
    {
      "cell_type": "markdown",
      "metadata": {
        "id": "kz4UQnF32Zsd",
        "colab_type": "text"
      },
      "source": [
        "4. **Compile the model**"
      ]
    },
    {
      "cell_type": "code",
      "metadata": {
        "id": "kVcCmpJP2AqP",
        "colab_type": "code",
        "colab": {}
      },
      "source": [
        "model.compile(loss='mean_squared_error',\n",
        "              optimizer=tf.keras.optimizers.Adam(0.1))"
      ],
      "execution_count": 0,
      "outputs": []
    },
    {
      "cell_type": "markdown",
      "metadata": {
        "id": "mV-5-qX32dg_",
        "colab_type": "text"
      },
      "source": [
        "5. **Train the Model**"
      ]
    },
    {
      "cell_type": "code",
      "metadata": {
        "id": "yM6liVu12GJk",
        "colab_type": "code",
        "colab": {}
      },
      "source": [
        "history = model.fit(X_train, y_train, epochs=10)"
      ],
      "execution_count": 0,
      "outputs": []
    },
    {
      "cell_type": "markdown",
      "metadata": {
        "id": "SJ-sQYN42iMd",
        "colab_type": "text"
      },
      "source": [
        "6. **Evaluatet accuracy**"
      ]
    },
    {
      "cell_type": "code",
      "metadata": {
        "id": "4oUmGHBe2Jhv",
        "colab_type": "code",
        "colab": {}
      },
      "source": [
        "model.evaluate(X_test, y_test)"
      ],
      "execution_count": 0,
      "outputs": []
    },
    {
      "cell_type": "markdown",
      "metadata": {
        "id": "Vzc4IxcF3dBA",
        "colab_type": "text"
      },
      "source": [
        "7. **Predict**"
      ]
    },
    {
      "cell_type": "code",
      "metadata": {
        "id": "8eL50CboPZIp",
        "colab_type": "code",
        "colab": {}
      },
      "source": [
        "x_predict = np.matrix('4,\t3.00,\t1960,\t5000,\t1.0,\t0,\t0,\t5,\t7,\t1050,\t910,\t1965,\t0,\t1360,\t5000')\n",
        "y_predict = model.predict(x_predict)\n",
        "print(y_predict)"
      ],
      "execution_count": 0,
      "outputs": []
    },
    {
      "cell_type": "markdown",
      "metadata": {
        "id": "60ysa62duJXz",
        "colab_type": "text"
      },
      "source": [
        "8. **Visualize**"
      ]
    },
    {
      "cell_type": "code",
      "metadata": {
        "id": "2ur3D6vnfGKe",
        "colab_type": "code",
        "colab": {}
      },
      "source": [
        "plt.plot(x_predict, y_predict,'ro') \n",
        "plt.legend()\n",
        "plt.show()"
      ],
      "execution_count": 0,
      "outputs": []
    },
    {
      "cell_type": "code",
      "metadata": {
        "id": "GvYOKLcqt8Nu",
        "colab_type": "code",
        "colab": {}
      },
      "source": [
        "plt.xlabel('Epoch Number')\n",
        "plt.ylabel(\"Loss Magnitude\")\n",
        "plt.plot(history.history['loss'])"
      ],
      "execution_count": 0,
      "outputs": []
    }
  ]
}