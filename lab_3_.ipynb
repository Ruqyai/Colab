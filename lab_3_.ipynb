{
  "nbformat": 4,
  "nbformat_minor": 0,
  "metadata": {
    "colab": {
      "name": "lab 3 .ipynb",
      "version": "0.3.2",
      "provenance": [],
      "include_colab_link": true
    },
    "kernelspec": {
      "name": "python3",
      "display_name": "Python 3"
    },
    "accelerator": "TPU"
  },
  "cells": [
    {
      "cell_type": "markdown",
      "metadata": {
        "id": "view-in-github",
        "colab_type": "text"
      },
      "source": [
        "<a href=\"https://colab.research.google.com/github/Ruqyai/Colab/blob/master/lab_3_.ipynb\" target=\"_parent\"><img src=\"https://colab.research.google.com/assets/colab-badge.svg\" alt=\"Open In Colab\"/></a>"
      ]
    },
    {
      "cell_type": "markdown",
      "metadata": {
        "id": "u8mfNPiOOGhZ",
        "colab_type": "text"
      },
      "source": [
        "# Regression Example\n",
        ">[visual examplet](http://playground.tensorflow.org/#activation=linear&batchSize=10&dataset=gauss&regDataset=reg-plane&learningRate=0.03&regularizationRate=0&noise=0&networkShape=1,1&seed=0.11597&showTestData=false&discretize=false&percTrainData=50&x=true&y=true&xTimesY=false&xSquared=false&ySquared=false&cosX=false&sinX=false&cosY=false&sinY=false&collectStats=false&problem=regression&initZero=false&hideText=false)\n",
        "\n"
      ]
    },
    {
      "cell_type": "markdown",
      "metadata": {
        "id": "Ta2rZ7krCTWi",
        "colab_type": "text"
      },
      "source": [
        "1.   **Import requirements**"
      ]
    },
    {
      "cell_type": "code",
      "metadata": {
        "id": "8K3ddC0xDznJ",
        "colab_type": "code",
        "colab": {}
      },
      "source": [
        "from __future__ import absolute_import, division, print_function, unicode_literals\n",
        "import tensorflow as tf\n",
        "import numpy as np\n",
        "#tf.logging.set_verbosity(tf.logging.WARN)"
      ],
      "execution_count": 0,
      "outputs": []
    },
    {
      "cell_type": "markdown",
      "metadata": {
        "id": "M-OuIpMiCRca",
        "colab_type": "text"
      },
      "source": [
        "\n",
        "2.  **Input Data**\n"
      ]
    },
    {
      "cell_type": "code",
      "metadata": {
        "id": "wnwXLyw4EJae",
        "colab_type": "code",
        "colab": {}
      },
      "source": [
        "celsius_q    = np.array([-40, -10,  0,  8, 15, 22,  38],  dtype=float)\n",
        "fahrenheit_a = np.array([-40,  14, 32, 46, 59, 72, 100],  dtype=float)\n"
      ],
      "execution_count": 0,
      "outputs": []
    },
    {
      "cell_type": "markdown",
      "metadata": {
        "id": "Xi6iyk4wCk_S",
        "colab_type": "text"
      },
      "source": [
        "3.  **Bulid Model**"
      ]
    },
    {
      "cell_type": "code",
      "metadata": {
        "id": "G5d7crZwEQV3",
        "colab_type": "code",
        "colab": {}
      },
      "source": [
        "model = tf.keras.Sequential([tf.keras.layers.Dense(units=1, input_shape=[1])])"
      ],
      "execution_count": 0,
      "outputs": []
    },
    {
      "cell_type": "markdown",
      "metadata": {
        "id": "9JR9PqEiCrUG",
        "colab_type": "text"
      },
      "source": [
        "4. **Compile the model**"
      ]
    },
    {
      "cell_type": "code",
      "metadata": {
        "id": "z3_iaOmIEWZH",
        "colab_type": "code",
        "colab": {}
      },
      "source": [
        "model.compile(loss='mean_squared_error',\n",
        "              optimizer=tf.keras.optimizers.Adam(0.1))"
      ],
      "execution_count": 0,
      "outputs": []
    },
    {
      "cell_type": "markdown",
      "metadata": {
        "id": "37yeamgoCx5N",
        "colab_type": "text"
      },
      "source": [
        "5.  **Train the Model**"
      ]
    },
    {
      "cell_type": "code",
      "metadata": {
        "id": "G1SkqrTWEcJt",
        "colab_type": "code",
        "colab": {}
      },
      "source": [
        "history = model.fit(celsius_q, fahrenheit_a, epochs=500, verbose=False)"
      ],
      "execution_count": 0,
      "outputs": []
    },
    {
      "cell_type": "markdown",
      "metadata": {
        "id": "E4aLjmkhDJmJ",
        "colab_type": "text"
      },
      "source": [
        "6. **Visualize** "
      ]
    },
    {
      "cell_type": "code",
      "metadata": {
        "id": "VGL9V7dwEgxy",
        "colab_type": "code",
        "colab": {}
      },
      "source": [
        "import matplotlib.pyplot as plt\n",
        "plt.xlabel('Epoch Number')\n",
        "plt.ylabel(\"Loss Magnitude\")\n",
        "plt.plot(history.history['loss'])"
      ],
      "execution_count": 0,
      "outputs": []
    },
    {
      "cell_type": "markdown",
      "metadata": {
        "id": "5nkCXbTrDxeE",
        "colab_type": "text"
      },
      "source": [
        "7. **Predict**"
      ]
    },
    {
      "cell_type": "code",
      "metadata": {
        "id": "fUTVeAFKEngV",
        "colab_type": "code",
        "colab": {}
      },
      "source": [
        "print(model.predict([100.0]))"
      ],
      "execution_count": 0,
      "outputs": []
    },
    {
      "cell_type": "markdown",
      "metadata": {
        "id": "wMhSlRhNTwr8",
        "colab_type": "text"
      },
      "source": [
        "### TensorBoard\n",
        ">Visualization tool for inspecting and understanding your TensorFlow runs and graphs."
      ]
    },
    {
      "cell_type": "code",
      "metadata": {
        "id": "vRTX7-37TsRb",
        "colab_type": "code",
        "colab": {}
      },
      "source": [
        "!pip install tensorboardcolab\n",
        "from tensorboardcolab import * \n",
        "tbc = TensorBoardColab()\n",
        "writer = tbc.get_writer()\n",
        "writer.add_graph(tf.get_default_graph())\n",
        "writer.flush()"
      ],
      "execution_count": 0,
      "outputs": []
    }
  ]
}