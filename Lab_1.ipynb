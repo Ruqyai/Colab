{
  "nbformat": 4,
  "nbformat_minor": 0,
  "metadata": {
    "colab": {
      "name": "Lab_1.ipynb",
      "version": "0.3.2",
      "provenance": [],
      "collapsed_sections": [],
      "include_colab_link": true
    },
    "kernelspec": {
      "name": "python3",
      "display_name": "Python 3"
    },
    "accelerator": "GPU"
  },
  "cells": [
    {
      "cell_type": "markdown",
      "metadata": {
        "id": "view-in-github",
        "colab_type": "text"
      },
      "source": [
        "<a href=\"https://colab.research.google.com/github/Ruqyai/Colab/blob/master/Lab_1.ipynb\" target=\"_parent\"><img src=\"https://colab.research.google.com/assets/colab-badge.svg\" alt=\"Open In Colab\"/></a>"
      ]
    },
    {
      "cell_type": "markdown",
      "metadata": {
        "id": "HWp7yeYKTuso",
        "colab_type": "text"
      },
      "source": [
        "**Learning Objectives:**\n",
        "  * Learn fundamental TensorFlow concepts\n",
        "  * Use the "
      ]
    },
    {
      "cell_type": "markdown",
      "metadata": {
        "id": "zoTjmpNMQFdg",
        "colab_type": "text"
      },
      "source": [
        "# Classification Example\n",
        "\n",
        "> [visual examplet](http://playground.tensorflow.org/#activation=tanh&batchSize=10&dataset=gauss&regDataset=reg-plane&learningRate=0.03&regularizationRate=0&noise=0&networkShape=4,2&seed=0.20090&showTestData=false&discretize=false&percTrainData=50&x=true&y=true&xTimesY=false&xSquared=false&ySquared=false&cosX=false&sinX=false&cosY=false&sinY=false&collectStats=false&problem=classification&initZero=false&hideText=false)\n",
        "\n",
        "\n",
        "\n"
      ]
    },
    {
      "cell_type": "markdown",
      "metadata": {
        "id": "-Sr-H5ltZ8S7",
        "colab_type": "text"
      },
      "source": [
        "\n",
        "\n",
        "1.   ** Import requirements**\n"
      ]
    },
    {
      "cell_type": "code",
      "metadata": {
        "id": "Dbq2O5BKPz8o",
        "colab_type": "code",
        "colab": {}
      },
      "source": [
        "#load the necessary libraries\n",
        "import tensorflow as tf\n",
        "import matplotlib.pyplot as plt\n",
        "import numpy as np\n",
        "#tf.logging.set_verbosity(tf.logging.WARN)\n"
      ],
      "execution_count": 0,
      "outputs": []
    },
    {
      "cell_type": "markdown",
      "metadata": {
        "id": "XRs-0q7bVWkL",
        "colab_type": "text"
      },
      "source": [
        "\n",
        "2.  ** Input Data**\n",
        "\n",
        "\n",
        "\n"
      ]
    },
    {
      "cell_type": "code",
      "metadata": {
        "id": "pAFQ75LrXdwB",
        "colab_type": "code",
        "colab": {
          "base_uri": "https://localhost:8080/",
          "height": 320
        },
        "outputId": "2c234608-840c-4114-e406-2e976211f599"
      },
      "source": [
        "# load the dataset \n",
        "mnist = tf.keras.datasets.mnist\n",
        "(x_train, y_train),(x_test, y_test) = mnist.load_data()\n",
        "plt.imshow(x_train[7])"
      ],
      "execution_count": 2,
      "outputs": [
        {
          "output_type": "stream",
          "text": [
            "Downloading data from https://storage.googleapis.com/tensorflow/tf-keras-datasets/mnist.npz\n",
            "11493376/11490434 [==============================] - 0s 0us/step\n"
          ],
          "name": "stdout"
        },
        {
          "output_type": "execute_result",
          "data": {
            "text/plain": [
              "<matplotlib.image.AxesImage at 0x7fb17ff5d128>"
            ]
          },
          "metadata": {
            "tags": []
          },
          "execution_count": 2
        },
        {
          "output_type": "display_data",
          "data": {
            "image/png": "[encoded data removed]",
            "text/plain": [
              "<Figure size 432x288 with 1 Axes>"
            ]
          },
          "metadata": {
            "tags": []
          }
        }
      ]
    },
    {
      "cell_type": "code",
      "metadata": {
        "id": "di1tPs01Sa0k",
        "colab_type": "code",
        "colab": {}
      },
      "source": [
        "# Normalizing the images to the range of [0., 1.]\n",
        "x_train, x_test = x_train / 255.0, x_test / 255.0"
      ],
      "execution_count": 0,
      "outputs": []
    },
    {
      "cell_type": "markdown",
      "metadata": {
        "id": "Ogr1k5iTaddB",
        "colab_type": "text"
      },
      "source": [
        "3.  ** Bulid Model**\n",
        "\n",
        "\n"
      ]
    },
    {
      "cell_type": "code",
      "metadata": {
        "id": "uDnBZ61xYM4Y",
        "colab_type": "code",
        "colab": {
          "base_uri": "https://localhost:8080/",
          "height": 139
        },
        "outputId": "96cf84b3-5ec3-47ff-8ee8-9a8f393fb476"
      },
      "source": [
        "model = tf.keras.models.Sequential([\n",
        "  tf.keras.layers.Flatten(input_shape=x_train[0].shape),\n",
        "  tf.keras.layers.Dense(128, activation='relu'),\n",
        "  tf.keras.layers.Dropout(0.2),\n",
        "  tf.keras.layers.Dense(10, activation='softmax')\n",
        "])"
      ],
      "execution_count": 4,
      "outputs": [
        {
          "output_type": "stream",
          "text": [
            "WARNING:tensorflow:From /usr/local/lib/python3.6/dist-packages/tensorflow/python/ops/resource_variable_ops.py:435: colocate_with (from tensorflow.python.framework.ops) is deprecated and will be removed in a future version.\n",
            "Instructions for updating:\n",
            "Colocations handled automatically by placer.\n",
            "WARNING:tensorflow:From /usr/local/lib/python3.6/dist-packages/tensorflow/python/keras/layers/core.py:143: calling dropout (from tensorflow.python.ops.nn_ops) with keep_prob is deprecated and will be removed in a future version.\n",
            "Instructions for updating:\n",
            "Please use `rate` instead of `keep_prob`. Rate should be set to `rate = 1 - keep_prob`.\n"
          ],
          "name": "stdout"
        }
      ]
    },
    {
      "cell_type": "markdown",
      "metadata": {
        "id": "YOWrsIKc-C0R",
        "colab_type": "text"
      },
      "source": [
        "4. **Compile the model**"
      ]
    },
    {
      "cell_type": "code",
      "metadata": {
        "id": "J-5SZOh2-DUM",
        "colab_type": "code",
        "colab": {}
      },
      "source": [
        "model.compile(optimizer='adam',\n",
        "              loss='sparse_categorical_crossentropy',\n",
        "              metrics=['accuracy'])"
      ],
      "execution_count": 0,
      "outputs": []
    },
    {
      "cell_type": "markdown",
      "metadata": {
        "id": "5Lzfaj-Jajnd",
        "colab_type": "text"
      },
      "source": [
        "5.  ** Train the Model**"
      ]
    },
    {
      "cell_type": "code",
      "metadata": {
        "id": "DbVqCUZSYUFn",
        "colab_type": "code",
        "colab": {
          "base_uri": "https://localhost:8080/",
          "height": 204
        },
        "outputId": "7e16b75e-129e-4f56-9282-32c1d5a05f0d"
      },
      "source": [
        "model.fit(x_train, y_train, epochs=5)\n"
      ],
      "execution_count": 6,
      "outputs": [
        {
          "output_type": "stream",
          "text": [
            "Epoch 1/5\n",
            "60000/60000 [==============================] - 9s 142us/sample - loss: 0.3003 - acc: 0.9125\n",
            "Epoch 2/5\n",
            "60000/60000 [==============================] - 8s 129us/sample - loss: 0.1451 - acc: 0.9566\n",
            "Epoch 3/5\n",
            "60000/60000 [==============================] - 8s 128us/sample - loss: 0.1099 - acc: 0.9667\n",
            "Epoch 4/5\n",
            "60000/60000 [==============================] - 8s 128us/sample - loss: 0.0906 - acc: 0.9717\n",
            "Epoch 5/5\n",
            "60000/60000 [==============================] - 8s 128us/sample - loss: 0.0763 - acc: 0.9757\n"
          ],
          "name": "stdout"
        },
        {
          "output_type": "execute_result",
          "data": {
            "text/plain": [
              "<tensorflow.python.keras.callbacks.History at 0x7fb17c9d7898>"
            ]
          },
          "metadata": {
            "tags": []
          },
          "execution_count": 6
        }
      ]
    },
    {
      "cell_type": "markdown",
      "metadata": {
        "id": "jyYCe51HarP9",
        "colab_type": "text"
      },
      "source": [
        "6.  ** Evaluatet accuracy**"
      ]
    },
    {
      "cell_type": "code",
      "metadata": {
        "id": "N2pLEkHRYaRo",
        "colab_type": "code",
        "colab": {
          "base_uri": "https://localhost:8080/",
          "height": 51
        },
        "outputId": "4d3be7b6-71e7-4c2d-98fc-bed2731a0aeb"
      },
      "source": [
        "model.evaluate(x_test, y_test)"
      ],
      "execution_count": 7,
      "outputs": [
        {
          "output_type": "stream",
          "text": [
            "10000/10000 [==============================] - 1s 71us/sample - loss: 0.0794 - acc: 0.9747\n"
          ],
          "name": "stdout"
        },
        {
          "output_type": "execute_result",
          "data": {
            "text/plain": [
              "[0.07936497067096643, 0.9747]"
            ]
          },
          "metadata": {
            "tags": []
          },
          "execution_count": 7
        }
      ]
    },
    {
      "cell_type": "markdown",
      "metadata": {
        "id": "ClenjUofgu1o",
        "colab_type": "text"
      },
      "source": [
        "7. **Predict**"
      ]
    },
    {
      "cell_type": "code",
      "metadata": {
        "id": "qkWGOx5yq6wD",
        "colab_type": "code",
        "colab": {
          "base_uri": "https://localhost:8080/",
          "height": 303
        },
        "outputId": "c10ecc03-2e75-4e00-f59e-c354027c1b9e"
      },
      "source": [
        "\n",
        "random= 56\n",
        "predict = model.predict(x_test)\n",
        "value_of_predict = np.argmax(predict[random])\n",
        "print(value_of_predict)\n",
        "plt.imshow(x_test[random])\n"
      ],
      "execution_count": 8,
      "outputs": [
        {
          "output_type": "stream",
          "text": [
            "4\n"
          ],
          "name": "stdout"
        },
        {
          "output_type": "execute_result",
          "data": {
            "text/plain": [
              "<matplotlib.image.AxesImage at 0x7fb17494df98>"
            ]
          },
          "metadata": {
            "tags": []
          },
          "execution_count": 8
        },
        {
          "output_type": "display_data",
          "data": {
            "image/png": "[encoded data removed]",
            "text/plain": [
              "<Figure size 432x288 with 1 Axes>"
            ]
          },
          "metadata": {
            "tags": []
          }
        }
      ]
    },
    {
      "cell_type": "markdown",
      "metadata": {
        "id": "Zgm6R92adajO",
        "colab_type": "text"
      },
      "source": [
        "##Tensorboard"
      ]
    },
    {
      "cell_type": "code",
      "metadata": {
        "id": "-9gpUVUySIe0",
        "colab_type": "code",
        "colab": {
          "base_uri": "https://localhost:8080/",
          "height": 102
        },
        "outputId": "674f4200-8bc1-417a-8d0a-449aa920734a"
      },
      "source": [
        "!pip install tensorboardcolab\n",
        "from tensorboardcolab import * \n",
        "tbc = TensorBoardColab()\n",
        "writer = tbc.get_writer()\n",
        "writer.add_graph(tf.get_default_graph())\n",
        "writer.flush()"
      ],
      "execution_count": 9,
      "outputs": [
        {
          "output_type": "stream",
          "text": [
            "Requirement already satisfied: tensorboardcolab in /usr/local/lib/python3.6/dist-packages (0.0.22)\n"
          ],
          "name": "stdout"
        },
        {
          "output_type": "stream",
          "text": [
            "Using TensorFlow backend.\n"
          ],
          "name": "stderr"
        },
        {
          "output_type": "stream",
          "text": [
            "Wait for 8 seconds...\n",
            "TensorBoard link:\n",
            "https://69f02645.ngrok.io\n"
          ],
          "name": "stdout"
        }
      ]
    }
  ]
}