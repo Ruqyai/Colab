{
  "nbformat": 4,
  "nbformat_minor": 0,
  "metadata": {
    "colab": {
      "name": "Lab_1.ipynb",
      "version": "0.3.2",
      "provenance": [],
      "collapsed_sections": [],
      "include_colab_link": true
    },
    "kernelspec": {
      "name": "python3",
      "display_name": "Python 3"
    },
    "accelerator": "GPU"
  },
  "cells": [
    {
      "cell_type": "markdown",
      "metadata": {
        "id": "view-in-github",
        "colab_type": "text"
      },
      "source": [
        "<a href=\"https://colab.research.google.com/github/Ruqyai/Colab/blob/master/Lab_1.ipynb\" target=\"_parent\"><img src=\"https://colab.research.google.com/assets/colab-badge.svg\" alt=\"Open In Colab\"/></a>"
      ]
    },
    {
      "cell_type": "markdown",
      "metadata": {
        "id": "HWp7yeYKTuso",
        "colab_type": "text"
      },
      "source": [
        "#**Learning Objectives:**\n",
        "  * Learn fundamental TensorFlow concepts\n",
        "  * Load the data.\n",
        "  * Define the architecture of the model and what is a neural network.\n",
        "  * Train the model.\n",
        "  *  Making some predictions for evaluating the trained model.\n",
        "  * Learn about useful tool Tensorboard.\n",
        "  \n",
        "  "
      ]
    },
    {
      "cell_type": "markdown",
      "metadata": {
        "id": "zoTjmpNMQFdg",
        "colab_type": "text"
      },
      "source": [
        "## Classification Example\n",
        "\n",
        "> [visual examplet](http://playground.tensorflow.org/#activation=tanh&batchSize=10&dataset=gauss&regDataset=reg-plane&learningRate=0.03&regularizationRate=0&noise=0&networkShape=4,2&seed=0.20090&showTestData=false&discretize=false&percTrainData=50&x=true&y=true&xTimesY=false&xSquared=false&ySquared=false&cosX=false&sinX=false&cosY=false&sinY=false&collectStats=false&problem=classification&initZero=false&hideText=false)\n",
        "\n",
        "\n",
        "\n"
      ]
    },
    {
      "cell_type": "markdown",
      "metadata": {
        "id": "-Sr-H5ltZ8S7",
        "colab_type": "text"
      },
      "source": [
        "\n",
        "\n",
        "1.   ** Import requirements**\n"
      ]
    },
    {
      "cell_type": "code",
      "metadata": {
        "id": "Dbq2O5BKPz8o",
        "colab_type": "code",
        "colab": {}
      },
      "source": [
        "#load the necessary libraries\n",
        "import tensorflow as tf\n",
        "import matplotlib.pyplot as plt\n",
        "import numpy as np\n",
        "tf.logging.set_verbosity(tf.logging.WARN)# just for undisplay the WARNING\n"
      ],
      "execution_count": 0,
      "outputs": []
    },
    {
      "cell_type": "markdown",
      "metadata": {
        "id": "XRs-0q7bVWkL",
        "colab_type": "text"
      },
      "source": [
        "\n",
        "2.  ** Input Data**\n",
        "\n",
        "\n",
        "\n"
      ]
    },
    {
      "cell_type": "code",
      "metadata": {
        "id": "pAFQ75LrXdwB",
        "colab_type": "code",
        "outputId": "b29ad7fa-4697-44b3-90f6-52ac78144c17",
        "colab": {
          "base_uri": "https://localhost:8080/",
          "height": 791
        }
      },
      "source": [
        "# load the dataset \n",
        "mnist = tf.keras.datasets.mnist\n",
        "(x_train, y_train),(x_test, y_test) = mnist.load_data()\n",
        "#we can use the pyplot library to draw the image so we know what the dataset looks like\n",
        "fig = plt.figure(figsize=(4,4))\n",
        "plt.imshow(x_train[7])\n",
        "fig = plt.figure(figsize=(4,4))\n",
        "plt.imshow(x_train[9])\n",
        "fig = plt.figure(figsize=(4,4))\n",
        "plt.imshow(x_train[2])"
      ],
      "execution_count": 19,
      "outputs": [
        {
          "output_type": "execute_result",
          "data": {
            "text/plain": [
              "<matplotlib.image.AxesImage at 0x7f2000202198>"
            ]
          },
          "metadata": {
            "tags": []
          },
          "execution_count": 19
        },
        {
          "output_type": "display_data",
          "data": {
            "image/png": "[encoded data removed]",
            "text/plain": [
              "<Figure size 288x288 with 1 Axes>"
            ]
          },
          "metadata": {
            "tags": []
          }
        },
        {
          "output_type": "display_data",
          "data": {
            "image/png": "[encoded data removed]",
            "text/plain": [
              "<Figure size 288x288 with 1 Axes>"
            ]
          },
          "metadata": {
            "tags": []
          }
        },
        {
          "output_type": "display_data",
          "data": {
            "image/png": "[encoded data removed]",
            "text/plain": [
              "<Figure size 288x288 with 1 Axes>"
            ]
          },
          "metadata": {
            "tags": []
          }
        }
      ]
    },
    {
      "cell_type": "code",
      "metadata": {
        "id": "di1tPs01Sa0k",
        "colab_type": "code",
        "colab": {}
      },
      "source": [
        "# Normalizing (rescale ) the images to the range of [0., 1.]\n",
        "x_train, x_test = x_train / 255.0, x_test / 255.0"
      ],
      "execution_count": 0,
      "outputs": []
    },
    {
      "cell_type": "markdown",
      "metadata": {
        "id": "Ogr1k5iTaddB",
        "colab_type": "text"
      },
      "source": [
        "3.  ** Bulid Model**\n",
        "\n",
        "\n"
      ]
    },
    {
      "cell_type": "code",
      "metadata": {
        "id": "uDnBZ61xYM4Y",
        "colab_type": "code",
        "outputId": "d9983d19-9fa3-443f-eac3-9f72619e2ded",
        "colab": {
          "base_uri": "https://localhost:8080/",
          "height": 294
        }
      },
      "source": [
        "model = tf.keras.models.Sequential([\n",
        "  # input: images of size 28x28 pixels \n",
        "  tf.keras.layers.Flatten(input_shape=x_train[0].shape),\n",
        "  tf.keras.layers.Dense(128, activation='relu'),\n",
        "  tf.keras.layers.Dropout(0.2),\n",
        "  # output: classifying into 10 categories\n",
        "  tf.keras.layers.Dense(10, activation='softmax')\n",
        "])\n",
        "model.summary()# list the summary of the Layers (type), Output, Shape and Params "
      ],
      "execution_count": 21,
      "outputs": [
        {
          "output_type": "stream",
          "text": [
            "_________________________________________________________________\n",
            "Layer (type)                 Output Shape              Param #   \n",
            "=================================================================\n",
            "flatten_1 (Flatten)          (None, 784)               0         \n",
            "_________________________________________________________________\n",
            "dense_2 (Dense)              (None, 128)               100480    \n",
            "_________________________________________________________________\n",
            "dropout_1 (Dropout)          (None, 128)               0         \n",
            "_________________________________________________________________\n",
            "dense_3 (Dense)              (None, 10)                1290      \n",
            "=================================================================\n",
            "Total params: 101,770\n",
            "Trainable params: 101,770\n",
            "Non-trainable params: 0\n",
            "_________________________________________________________________\n"
          ],
          "name": "stdout"
        }
      ]
    },
    {
      "cell_type": "markdown",
      "metadata": {
        "id": "YOWrsIKc-C0R",
        "colab_type": "text"
      },
      "source": [
        "4. **Compile the model**"
      ]
    },
    {
      "cell_type": "code",
      "metadata": {
        "id": "J-5SZOh2-DUM",
        "colab_type": "code",
        "colab": {}
      },
      "source": [
        "model.compile(optimizer='adam',\n",
        "              loss='sparse_categorical_crossentropy',\n",
        "              metrics=['accuracy'])"
      ],
      "execution_count": 0,
      "outputs": []
    },
    {
      "cell_type": "markdown",
      "metadata": {
        "id": "5Lzfaj-Jajnd",
        "colab_type": "text"
      },
      "source": [
        "5.  ** Train the Model**"
      ]
    },
    {
      "cell_type": "code",
      "metadata": {
        "id": "DbVqCUZSYUFn",
        "colab_type": "code",
        "outputId": "fb0baf68-cf8b-46b6-e90a-7bf20db3f1c2",
        "colab": {
          "base_uri": "https://localhost:8080/",
          "height": 220
        }
      },
      "source": [
        "model.fit(x_train, y_train, epochs=5) # we use (model.fit) for training the model\n"
      ],
      "execution_count": 23,
      "outputs": [
        {
          "output_type": "stream",
          "text": [
            "Epoch 1/5\n",
            "60000/60000 [==============================] - 6s 95us/sample - loss: 0.2929 - acc: 0.9146\n",
            "Epoch 2/5\n",
            "60000/60000 [==============================] - 6s 92us/sample - loss: 0.1402 - acc: 0.9588\n",
            "Epoch 3/5\n",
            "60000/60000 [==============================] - 6s 93us/sample - loss: 0.1058 - acc: 0.9673\n",
            "Epoch 4/5\n",
            "60000/60000 [==============================] - 5s 92us/sample - loss: 0.0882 - acc: 0.9738\n",
            "Epoch 5/5\n",
            "60000/60000 [==============================] - 6s 92us/sample - loss: 0.0750 - acc: 0.9771\n"
          ],
          "name": "stdout"
        },
        {
          "output_type": "execute_result",
          "data": {
            "text/plain": [
              "<tensorflow.python.keras.callbacks.History at 0x7f1fe554d8d0>"
            ]
          },
          "metadata": {
            "tags": []
          },
          "execution_count": 23
        }
      ]
    },
    {
      "cell_type": "markdown",
      "metadata": {
        "id": "jyYCe51HarP9",
        "colab_type": "text"
      },
      "source": [
        "6.  ** Evaluatet accuracy**"
      ]
    },
    {
      "cell_type": "code",
      "metadata": {
        "id": "N2pLEkHRYaRo",
        "colab_type": "code",
        "outputId": "7400c3c2-2404-4c65-8031-6666e83a78f6",
        "colab": {
          "base_uri": "https://localhost:8080/",
          "height": 109
        }
      },
      "source": [
        "# evaluate and print test accuracy\n",
        "score = model.evaluate(x_test, y_test)\n",
        "print('\\n', 'Test loss:', score[0])\n",
        "print('\\n', 'Test accuracy:', score[1])"
      ],
      "execution_count": 24,
      "outputs": [
        {
          "output_type": "stream",
          "text": [
            "10000/10000 [==============================] - 1s 52us/sample - loss: 0.0752 - acc: 0.9782\n",
            "\n",
            " Test loss: 0.07522266890644096\n",
            "\n",
            " Test accuracy: 0.9782\n"
          ],
          "name": "stdout"
        }
      ]
    },
    {
      "cell_type": "markdown",
      "metadata": {
        "id": "ClenjUofgu1o",
        "colab_type": "text"
      },
      "source": [
        "7. **Predict**\n",
        "\n",
        "Remember that neural networks deal with probabilities"
      ]
    },
    {
      "cell_type": "code",
      "metadata": {
        "id": "qkWGOx5yq6wD",
        "colab_type": "code",
        "outputId": "d76fc75c-0285-45d7-934f-c74900232ade",
        "colab": {
          "base_uri": "https://localhost:8080/",
          "height": 324
        }
      },
      "source": [
        "# let us visualize random image from the x_test dataset\n",
        "random= 56 # put any random index. Note it should be in the range\n",
        "predict = model.predict(x_test) # get predictions on the test set by using (model.predict)\n",
        "value_of_predict = np.argmax(predict[random])# argmax returns the indices of the maximum values along an axis\n",
        "print('\\n', 'The predicted number is :',value_of_predict)\n",
        "plt.imshow(x_test[random])#show if the prediction matches the real image\n"
      ],
      "execution_count": 27,
      "outputs": [
        {
          "output_type": "stream",
          "text": [
            "\n",
            " The predicted number is : 4\n"
          ],
          "name": "stdout"
        },
        {
          "output_type": "execute_result",
          "data": {
            "text/plain": [
              "<matplotlib.image.AxesImage at 0x7f1fe4bd8cf8>"
            ]
          },
          "metadata": {
            "tags": []
          },
          "execution_count": 27
        },
        {
          "output_type": "display_data",
          "data": {
            "image/png": "[encoded data removed]",
            "text/plain": [
              "<Figure size 432x288 with 1 Axes>"
            ]
          },
          "metadata": {
            "tags": []
          }
        }
      ]
    },
    {
      "cell_type": "markdown",
      "metadata": {
        "id": "Zgm6R92adajO",
        "colab_type": "text"
      },
      "source": [
        "##Tensorboard\n",
        "TensorBoard is a suite of visualization tools to make it easier to understand, debug, and optimize TensorFlow programs"
      ]
    },
    {
      "cell_type": "code",
      "metadata": {
        "id": "-9gpUVUySIe0",
        "colab_type": "code",
        "outputId": "8eff7430-b384-452f-cfc1-96875c0051ca",
        "colab": {
          "base_uri": "https://localhost:8080/",
          "height": 91
        }
      },
      "source": [
        "!pip install tensorboardcolab\n",
        "from tensorboardcolab import * \n",
        "tbc = TensorBoardColab()\n",
        "writer = tbc.get_writer()\n",
        "writer.add_graph(tf.get_default_graph())\n",
        "writer.flush()"
      ],
      "execution_count": 26,
      "outputs": [
        {
          "output_type": "stream",
          "text": [
            "Requirement already satisfied: tensorboardcolab in /usr/local/lib/python3.6/dist-packages (0.0.22)\n",
            "Wait for 8 seconds...\n",
            "TensorBoard link:\n",
            "https://bb07f3f7.ngrok.io\n"
          ],
          "name": "stdout"
        }
      ]
    },
    {
      "cell_type": "markdown",
      "metadata": {
        "id": "JdOdgqVr-iG-",
        "colab_type": "text"
      },
      "source": [
        "Now in TF version 2.0 , TensorBoard can be used directly within notebook experiences such as Colab and Jupyter. This can be helpful for sharing results, integrating TensorBoard into existing workflows, and using TensorBoard without installing anything locally. [try it ](https://colab.research.google.com/github/tensorflow/tensorboard/blob/master/docs/r2/tensorboard_in_notebooks.ipynb)"
      ]
    }
  ]
}