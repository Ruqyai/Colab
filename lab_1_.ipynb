{
  "nbformat": 4,
  "nbformat_minor": 0,
  "metadata": {
    "colab": {
      "name": "lab 1 .ipynb",
      "version": "0.3.2",
      "provenance": [],
      "include_colab_link": true
    },
    "kernelspec": {
      "name": "python3",
      "display_name": "Python 3"
    }
  },
  "cells": [
    {
      "cell_type": "markdown",
      "metadata": {
        "id": "view-in-github",
        "colab_type": "text"
      },
      "source": [
        "<a href=\"https://colab.research.google.com/github/Ruqyai/Colab/blob/master/lab_1_.ipynb\" target=\"_parent\"><img src=\"https://colab.research.google.com/assets/colab-badge.svg\" alt=\"Open In Colab\"/></a>"
      ]
    },
    {
      "cell_type": "code",
      "metadata": {
        "id": "u7_t0KggqAVj",
        "colab_type": "code",
        "colab": {}
      },
      "source": [
        "# !pip3 freeze | grep tensorflow==1.13.1 || pip3 install tensorflow==1.13.1"
      ],
      "execution_count": 0,
      "outputs": []
    },
    {
      "cell_type": "markdown",
      "metadata": {
        "id": "y9EvpDlFV-yE",
        "colab_type": "text"
      },
      "source": [
        "\n",
        "**1. Graph Execution**\n",
        "\n"
      ]
    },
    {
      "cell_type": "code",
      "metadata": {
        "id": "qrayothUqa4U",
        "colab_type": "code",
        "colab": {}
      },
      "source": [
        "import tensorflow as tf\n",
        "print(tf.__version__)"
      ],
      "execution_count": 0,
      "outputs": []
    },
    {
      "cell_type": "code",
      "metadata": {
        "id": "gpG4n1EFqipW",
        "colab_type": "code",
        "colab": {}
      },
      "source": [
        "a = tf.constant(value = [2, 2, 7], dtype = tf.int32)\n",
        "b = tf.constant(value = [4, -6, 1], dtype = tf.int32)\n",
        "c = tf.add(x = a, y = b)\n",
        "print(c)"
      ],
      "execution_count": 0,
      "outputs": []
    },
    {
      "cell_type": "code",
      "metadata": {
        "id": "7za9ABzcq0qj",
        "colab_type": "code",
        "colab": {}
      },
      "source": [
        "with tf.Session() as sess:\n",
        "    result = sess.run(fetches = c)\n",
        "    print(result)"
      ],
      "execution_count": 0,
      "outputs": []
    },
    {
      "cell_type": "markdown",
      "metadata": {
        "id": "D4JP3jd_12qX",
        "colab_type": "text"
      },
      "source": [
        "**2. Eager Execution** \n",
        "\n",
        "befor run you must first reset the notebook"
      ]
    },
    {
      "cell_type": "code",
      "metadata": {
        "id": "Tm-9DInOzdRS",
        "colab_type": "code",
        "colab": {}
      },
      "source": [
        "import tensorflow as tf\n",
        "from tensorflow.contrib.eager.python import tfe\n",
        "\n",
        "tfe.enable_eager_execution()\n",
        "\n",
        "a = tf.constant(value = [2, 2, 7], dtype = tf.int32)\n",
        "b = tf.constant(value = [4, -6, 1], dtype = tf.int32)\n",
        "c = tf.add(x = a, y = b)\n",
        "print(c)"
      ],
      "execution_count": 0,
      "outputs": []
    }
  ]
}