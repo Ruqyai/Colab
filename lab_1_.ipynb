{
  "nbformat": 4,
  "nbformat_minor": 0,
  "metadata": {
    "colab": {
      "name": "lab 1 .ipynb",
      "version": "0.3.2",
      "provenance": [],
      "include_colab_link": true
    },
    "kernelspec": {
      "name": "python3",
      "display_name": "Python 3"
    }
  },
  "cells": [
    {
      "cell_type": "markdown",
      "metadata": {
        "id": "view-in-github",
        "colab_type": "text"
      },
      "source": [
        "<a href=\"https://colab.research.google.com/github/Ruqyai/colab/blob/master/lab_1_.ipynb\" target=\"_parent\"><img src=\"https://colab.research.google.com/assets/colab-badge.svg\" alt=\"Open In Colab\"/></a>"
      ]
    },
    {
      "cell_type": "code",
      "metadata": {
        "id": "u7_t0KggqAVj",
        "colab_type": "code",
        "outputId": "c9a19c0c-8d89-44ba-f3c9-93f066b495b7",
        "colab": {
          "base_uri": "https://localhost:8080/",
          "height": 35
        }
      },
      "source": [
        "!pip3 freeze | grep tensorflow==1.13.1 || pip3 install tensorflow==1.13.1"
      ],
      "execution_count": 1,
      "outputs": [
        {
          "output_type": "stream",
          "text": [
            "tensorflow==1.13.1\n"
          ],
          "name": "stdout"
        }
      ]
    },
    {
      "cell_type": "code",
      "metadata": {
        "id": "qrayothUqa4U",
        "colab_type": "code",
        "outputId": "fcdf2dbc-c05c-40fb-d2d5-ea12b00d0628",
        "colab": {
          "base_uri": "https://localhost:8080/",
          "height": 35
        }
      },
      "source": [
        "import tensorflow as tf\n",
        "print(tf.__version__)"
      ],
      "execution_count": 2,
      "outputs": [
        {
          "output_type": "stream",
          "text": [
            "1.13.1\n"
          ],
          "name": "stdout"
        }
      ]
    },
    {
      "cell_type": "code",
      "metadata": {
        "id": "gpG4n1EFqipW",
        "colab_type": "code",
        "outputId": "3fe9b655-f875-48cc-f6f7-0abedef8cf78",
        "colab": {
          "base_uri": "https://localhost:8080/",
          "height": 35
        }
      },
      "source": [
        "a = tf.constant(value = [2, 2, 7], dtype = tf.int32)\n",
        "b = tf.constant(value = [4, -6, 1], dtype = tf.int32)\n",
        "c = tf.add(x = a, y = b)\n",
        "print(c)"
      ],
      "execution_count": 3,
      "outputs": [
        {
          "output_type": "stream",
          "text": [
            "Tensor(\"Add:0\", shape=(3,), dtype=int32)\n"
          ],
          "name": "stdout"
        }
      ]
    },
    {
      "cell_type": "code",
      "metadata": {
        "id": "7za9ABzcq0qj",
        "colab_type": "code",
        "outputId": "91018f14-e74d-43f7-92e4-654cb0ae037a",
        "colab": {
          "base_uri": "https://localhost:8080/",
          "height": 35
        }
      },
      "source": [
        "with tf.Session() as sess:\n",
        "    result = sess.run(fetches = c)\n",
        "    print(result)"
      ],
      "execution_count": 4,
      "outputs": [
        {
          "output_type": "stream",
          "text": [
            "[ 6 -4  8]\n"
          ],
          "name": "stdout"
        }
      ]
    },
    {
      "cell_type": "markdown",
      "metadata": {
        "id": "D4JP3jd_12qX",
        "colab_type": "text"
      },
      "source": [
        "befor run you must first reset the notebook"
      ]
    },
    {
      "cell_type": "code",
      "metadata": {
        "id": "Tm-9DInOzdRS",
        "colab_type": "code",
        "colab": {
          "base_uri": "https://localhost:8080/",
          "height": 35
        },
        "outputId": "0fd0eadd-ad1e-4c37-9c0b-193c4429fd50"
      },
      "source": [
        "import tensorflow as tf\n",
        "from tensorflow.contrib.eager.python import tfe\n",
        "\n",
        "tfe.enable_eager_execution()\n",
        "\n",
        "a = tf.constant(value = [2, 2, 7], dtype = tf.int32)\n",
        "b = tf.constant(value = [4, -6, 1], dtype = tf.int32)\n",
        "c = tf.add(x = a, y = b)\n",
        "print(c)"
      ],
      "execution_count": 1,
      "outputs": [
        {
          "output_type": "stream",
          "text": [
            "tf.Tensor([ 6 -4  8], shape=(3,), dtype=int32)\n"
          ],
          "name": "stdout"
        }
      ]
    }
  ]
}